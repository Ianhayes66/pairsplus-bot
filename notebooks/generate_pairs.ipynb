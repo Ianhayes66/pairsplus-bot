{
 "cells": [
  {
   "cell_type": "code",
   "execution_count": 1,
   "id": "1e4af060",
   "metadata": {},
   "outputs": [],
   "source": [
    "import sys\n",
    "import os\n",
    "\n",
    "# Add the project root to sys.path if needed\n",
    "sys.path.append(os.path.abspath(\"..\"))"
   ]
  },
  {
   "cell_type": "code",
   "execution_count": null,
   "id": "07ec9a4d-1a5f-4f40-ae09-4437f3424d5a",
   "metadata": {},
   "outputs": [
    {
     "name": "stderr",
     "output_type": "stream",
     "text": [
      "[*********************100%***********************]  10 of 10 completed\n"
     ]
    },
    {
     "data": {
      "text/plain": [
       "[(np.float64(0.014150182832502436), 'META', 'BAC'),\n",
       " (np.float64(0.04187309436076419), 'V', 'BAC'),\n",
       " (np.float64(0.04519926056822265), 'NVDA', 'JPM'),\n",
       " (np.float64(0.04989729886510584), 'AMZN', 'GOOGL'),\n",
       " (np.float64(0.12678078258844905), 'AMZN', 'BAC'),\n",
       " (np.float64(0.13943767967540932), 'GOOGL', 'META'),\n",
       " (np.float64(0.18057735392528768), 'GOOGL', 'JPM'),\n",
       " (np.float64(0.27925068008721377), 'TSLA', 'JPM'),\n",
       " (np.float64(0.2891376329562624), 'JPM', 'BAC'),\n",
       " (np.float64(0.28967144714407184), 'MSFT', 'NVDA')]"
      ]
     },
     "execution_count": 2,
     "metadata": {},
     "output_type": "execute_result"
    }
   ],
   "source": [
    "\n",
    "from pairsplus.pairs import find_cointegrated\n",
    "from pairsplus.data_io import fetch_bars_cached\n",
    "\n",
    "df = fetch_bars_cached()\n",
    "df.head()\n",
    "\n",
    "results = find_cointegrated(df)\n",
    "results\n"
   ]
  },
  {
   "cell_type": "code",
   "execution_count": null,
   "id": "00b08876-1167-4326-a81d-39c1329ad8bb",
   "metadata": {},
   "outputs": [],
   "source": []
  }
 ],
 "metadata": {
  "kernelspec": {
   "display_name": "Python 3 (ipykernel)",
   "language": "python",
   "name": "python3"
  },
  "language_info": {
   "codemirror_mode": {
    "name": "ipython",
    "version": 3
   },
   "file_extension": ".py",
   "mimetype": "text/x-python",
   "name": "python",
   "nbconvert_exporter": "python",
   "pygments_lexer": "ipython3",
   "version": "3.12.0"
  }
 },
 "nbformat": 4,
 "nbformat_minor": 5
}
